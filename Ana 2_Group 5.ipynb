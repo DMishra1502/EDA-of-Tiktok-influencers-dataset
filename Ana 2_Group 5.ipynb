{
 "cells": [
  {
   "cell_type": "markdown",
   "id": "8c46c66e-b97e-419c-a143-145d38dfb2c9",
   "metadata": {},
   "source": [
    "### EXPORATORY DATA ANALYSIS- Tiktok Influencers\n",
    "\n",
    "Compiled by: \n",
    "Diksha Mishra (section 'D', reg no: 231156)\n",
    "Shreyas N (section 'C',  reg no: 231137)\n",
    "Group no: 5\n",
    "\n",
    "## About the data\n",
    "The given dataset has been taken from Kaggle from link mentioned below: \n",
    "https://www.kaggle.com/datasets/ramjasmaurya/top-1000-social-media-channels?select=social+media+influencers+-+Tiktok+sep+2022.csv\n",
    "\n",
    "The dataset was uploaded by Ramjasmaurya who goes by the profile name 'Ram Jas' on Kaggle. \n",
    "\n",
    "This dataset contains the list of popular Tiktok influencers, their number of subscribers, average views, likes, comments and shares on videos captured in the month of September 2022. \n",
    "\n",
    "## Objectives\n",
    "The present exploratory data analysis was carried on this data set with the following key objectives in mind:\n",
    "(I.) To identify the tiktoker with highest no. of subscribers, view, likes, comments and video shares.\n",
    "(II.) To decipher the relationship b/w average views, likes, comments and shares of a video with the no. of subscribers."
   ]
  },
  {
   "cell_type": "code",
   "execution_count": 45,
   "id": "bb411933-e8b2-45b3-a354-f8ecd43b4197",
   "metadata": {},
   "outputs": [
    {
     "data": {
      "text/html": [
       "<div>\n",
       "<style scoped>\n",
       "    .dataframe tbody tr th:only-of-type {\n",
       "        vertical-align: middle;\n",
       "    }\n",
       "\n",
       "    .dataframe tbody tr th {\n",
       "        vertical-align: top;\n",
       "    }\n",
       "\n",
       "    .dataframe thead th {\n",
       "        text-align: right;\n",
       "    }\n",
       "</style>\n",
       "<table border=\"1\" class=\"dataframe\">\n",
       "  <thead>\n",
       "    <tr style=\"text-align: right;\">\n",
       "      <th></th>\n",
       "      <th>S.no</th>\n",
       "      <th>Tiktoker name</th>\n",
       "      <th>Tiktok name</th>\n",
       "      <th>Subscribers</th>\n",
       "      <th>Views_Ave</th>\n",
       "      <th>Likes_Ave</th>\n",
       "      <th>Comments_Ave</th>\n",
       "      <th>Shares_Ave</th>\n",
       "    </tr>\n",
       "  </thead>\n",
       "  <tbody>\n",
       "    <tr>\n",
       "      <th>0</th>\n",
       "      <td>1</td>\n",
       "      <td>jypestraykids</td>\n",
       "      <td>Stray Kids</td>\n",
       "      <td>13.8M</td>\n",
       "      <td>6.4M</td>\n",
       "      <td>2.3M</td>\n",
       "      <td>50.2K</td>\n",
       "      <td>34.2K</td>\n",
       "    </tr>\n",
       "    <tr>\n",
       "      <th>1</th>\n",
       "      <td>2</td>\n",
       "      <td>khaby.lame</td>\n",
       "      <td>Khabane lame</td>\n",
       "      <td>149.2M</td>\n",
       "      <td>17.3M</td>\n",
       "      <td>2.3M</td>\n",
       "      <td>15.2K</td>\n",
       "      <td>8.7K</td>\n",
       "    </tr>\n",
       "    <tr>\n",
       "      <th>2</th>\n",
       "      <td>3</td>\n",
       "      <td>scarlettsspam2</td>\n",
       "      <td>scarlett</td>\n",
       "      <td>2.1M</td>\n",
       "      <td>17.9M</td>\n",
       "      <td>845.8K</td>\n",
       "      <td>53.9K</td>\n",
       "      <td>6.3K</td>\n",
       "    </tr>\n",
       "    <tr>\n",
       "      <th>3</th>\n",
       "      <td>4</td>\n",
       "      <td>addisonre</td>\n",
       "      <td>Addison Rae</td>\n",
       "      <td>88.7M</td>\n",
       "      <td>22M</td>\n",
       "      <td>906.6K</td>\n",
       "      <td>7.6K</td>\n",
       "      <td>26.2K</td>\n",
       "    </tr>\n",
       "    <tr>\n",
       "      <th>4</th>\n",
       "      <td>5</td>\n",
       "      <td>belindatok</td>\n",
       "      <td>Belinda</td>\n",
       "      <td>4.8M</td>\n",
       "      <td>14.2M</td>\n",
       "      <td>1.5M</td>\n",
       "      <td>14.5K</td>\n",
       "      <td>15.3K</td>\n",
       "    </tr>\n",
       "    <tr>\n",
       "      <th>...</th>\n",
       "      <td>...</td>\n",
       "      <td>...</td>\n",
       "      <td>...</td>\n",
       "      <td>...</td>\n",
       "      <td>...</td>\n",
       "      <td>...</td>\n",
       "      <td>...</td>\n",
       "      <td>...</td>\n",
       "    </tr>\n",
       "    <tr>\n",
       "      <th>995</th>\n",
       "      <td>996</td>\n",
       "      <td>brendadialoy</td>\n",
       "      <td>Brenda Dialoy</td>\n",
       "      <td>371.9K</td>\n",
       "      <td>1.2M</td>\n",
       "      <td>187.5K</td>\n",
       "      <td>626</td>\n",
       "      <td>2K</td>\n",
       "    </tr>\n",
       "    <tr>\n",
       "      <th>996</th>\n",
       "      <td>997</td>\n",
       "      <td>jujufitcats</td>\n",
       "      <td>Juju Fitcats</td>\n",
       "      <td>4.3M</td>\n",
       "      <td>2.2M</td>\n",
       "      <td>280.8K</td>\n",
       "      <td>380</td>\n",
       "      <td>558</td>\n",
       "    </tr>\n",
       "    <tr>\n",
       "      <th>997</th>\n",
       "      <td>998</td>\n",
       "      <td>xoteam</td>\n",
       "      <td>XO Team</td>\n",
       "      <td>37.8M</td>\n",
       "      <td>2.5M</td>\n",
       "      <td>180.2K</td>\n",
       "      <td>859</td>\n",
       "      <td>450</td>\n",
       "    </tr>\n",
       "    <tr>\n",
       "      <th>998</th>\n",
       "      <td>999</td>\n",
       "      <td>kimsnwuo</td>\n",
       "      <td>ï¸ï¸</td>\n",
       "      <td>100.9K</td>\n",
       "      <td>957.4K</td>\n",
       "      <td>226.8K</td>\n",
       "      <td>908</td>\n",
       "      <td>1.7K</td>\n",
       "    </tr>\n",
       "    <tr>\n",
       "      <th>999</th>\n",
       "      <td>1000</td>\n",
       "      <td>jass_mcg</td>\n",
       "      <td>jass_mcg</td>\n",
       "      <td>52.2K</td>\n",
       "      <td>503.8K</td>\n",
       "      <td>116K</td>\n",
       "      <td>8.1K</td>\n",
       "      <td>1.8K</td>\n",
       "    </tr>\n",
       "  </tbody>\n",
       "</table>\n",
       "<p>1000 rows × 8 columns</p>\n",
       "</div>"
      ],
      "text/plain": [
       "     S.no   Tiktoker name    Tiktok name Subscribers Views_Ave Likes_Ave  \\\n",
       "0       1   jypestraykids     Stray Kids       13.8M      6.4M      2.3M   \n",
       "1       2      khaby.lame   Khabane lame      149.2M     17.3M      2.3M   \n",
       "2       3  scarlettsspam2       scarlett        2.1M     17.9M    845.8K   \n",
       "3       4       addisonre    Addison Rae       88.7M       22M    906.6K   \n",
       "4       5      belindatok        Belinda        4.8M     14.2M      1.5M   \n",
       "..    ...             ...            ...         ...       ...       ...   \n",
       "995   996    brendadialoy  Brenda Dialoy      371.9K      1.2M    187.5K   \n",
       "996   997     jujufitcats   Juju Fitcats        4.3M      2.2M    280.8K   \n",
       "997   998          xoteam        XO Team       37.8M      2.5M    180.2K   \n",
       "998   999        kimsnwuo         ï¸ï¸      100.9K    957.4K    226.8K   \n",
       "999  1000        jass_mcg       jass_mcg       52.2K    503.8K      116K   \n",
       "\n",
       "    Comments_Ave Shares_Ave  \n",
       "0          50.2K      34.2K  \n",
       "1          15.2K       8.7K  \n",
       "2          53.9K       6.3K  \n",
       "3           7.6K      26.2K  \n",
       "4          14.5K      15.3K  \n",
       "..           ...        ...  \n",
       "995          626         2K  \n",
       "996          380        558  \n",
       "997          859        450  \n",
       "998          908       1.7K  \n",
       "999         8.1K       1.8K  \n",
       "\n",
       "[1000 rows x 8 columns]"
      ]
     },
     "execution_count": 45,
     "metadata": {},
     "output_type": "execute_result"
    }
   ],
   "source": [
    "import pandas as pd\n",
    "import numpy as np\n",
    "import matplotlib as plt\n",
    "data = pd.read_excel(r\"D:\\Python files\\Social_Media_Influencers.xlsx\")\n",
    "data"
   ]
  },
  {
   "cell_type": "code",
   "execution_count": 46,
   "id": "478d24ba-ae3d-4f6c-9706-f82dc62b133c",
   "metadata": {},
   "outputs": [
    {
     "name": "stdout",
     "output_type": "stream",
     "text": [
      "<class 'pandas.core.frame.DataFrame'>\n",
      "RangeIndex: 1000 entries, 0 to 999\n",
      "Data columns (total 8 columns):\n",
      " #   Column         Non-Null Count  Dtype \n",
      "---  ------         --------------  ----- \n",
      " 0   S.no           1000 non-null   int64 \n",
      " 1   Tiktoker name  1000 non-null   object\n",
      " 2   Tiktok name    999 non-null    object\n",
      " 3   Subscribers    1000 non-null   object\n",
      " 4   Views_Ave      1000 non-null   object\n",
      " 5   Likes_Ave      1000 non-null   object\n",
      " 6   Comments_Ave   1000 non-null   object\n",
      " 7   Shares_Ave     1000 non-null   object\n",
      "dtypes: int64(1), object(7)\n",
      "memory usage: 62.6+ KB\n"
     ]
    }
   ],
   "source": [
    "data.info()"
   ]
  },
  {
   "cell_type": "code",
   "execution_count": 47,
   "id": "2a6d9074-a80b-4e65-982b-dd72b8ccbba3",
   "metadata": {},
   "outputs": [
    {
     "data": {
      "text/html": [
       "<div>\n",
       "<style scoped>\n",
       "    .dataframe tbody tr th:only-of-type {\n",
       "        vertical-align: middle;\n",
       "    }\n",
       "\n",
       "    .dataframe tbody tr th {\n",
       "        vertical-align: top;\n",
       "    }\n",
       "\n",
       "    .dataframe thead th {\n",
       "        text-align: right;\n",
       "    }\n",
       "</style>\n",
       "<table border=\"1\" class=\"dataframe\">\n",
       "  <thead>\n",
       "    <tr style=\"text-align: right;\">\n",
       "      <th></th>\n",
       "      <th>S.no</th>\n",
       "    </tr>\n",
       "  </thead>\n",
       "  <tbody>\n",
       "    <tr>\n",
       "      <th>count</th>\n",
       "      <td>1000.000000</td>\n",
       "    </tr>\n",
       "    <tr>\n",
       "      <th>mean</th>\n",
       "      <td>500.500000</td>\n",
       "    </tr>\n",
       "    <tr>\n",
       "      <th>std</th>\n",
       "      <td>288.819436</td>\n",
       "    </tr>\n",
       "    <tr>\n",
       "      <th>min</th>\n",
       "      <td>1.000000</td>\n",
       "    </tr>\n",
       "    <tr>\n",
       "      <th>25%</th>\n",
       "      <td>250.750000</td>\n",
       "    </tr>\n",
       "    <tr>\n",
       "      <th>50%</th>\n",
       "      <td>500.500000</td>\n",
       "    </tr>\n",
       "    <tr>\n",
       "      <th>75%</th>\n",
       "      <td>750.250000</td>\n",
       "    </tr>\n",
       "    <tr>\n",
       "      <th>max</th>\n",
       "      <td>1000.000000</td>\n",
       "    </tr>\n",
       "  </tbody>\n",
       "</table>\n",
       "</div>"
      ],
      "text/plain": [
       "              S.no\n",
       "count  1000.000000\n",
       "mean    500.500000\n",
       "std     288.819436\n",
       "min       1.000000\n",
       "25%     250.750000\n",
       "50%     500.500000\n",
       "75%     750.250000\n",
       "max    1000.000000"
      ]
     },
     "execution_count": 47,
     "metadata": {},
     "output_type": "execute_result"
    }
   ],
   "source": [
    "data.describe()"
   ]
  },
  {
   "cell_type": "code",
   "execution_count": 48,
   "id": "341c7241-29fb-45ef-b004-e3d122150fc5",
   "metadata": {},
   "outputs": [
    {
     "data": {
      "text/plain": [
       "S.no             1000\n",
       "Tiktoker name    1000\n",
       "Tiktok name       999\n",
       "Subscribers      1000\n",
       "Views_Ave        1000\n",
       "Likes_Ave        1000\n",
       "Comments_Ave     1000\n",
       "Shares_Ave       1000\n",
       "dtype: int64"
      ]
     },
     "execution_count": 48,
     "metadata": {},
     "output_type": "execute_result"
    }
   ],
   "source": [
    "data.count()"
   ]
  },
  {
   "cell_type": "code",
   "execution_count": 49,
   "id": "a1542589-8d74-4c55-94ca-098b9da77c04",
   "metadata": {},
   "outputs": [
    {
     "data": {
      "text/html": [
       "<div>\n",
       "<style scoped>\n",
       "    .dataframe tbody tr th:only-of-type {\n",
       "        vertical-align: middle;\n",
       "    }\n",
       "\n",
       "    .dataframe tbody tr th {\n",
       "        vertical-align: top;\n",
       "    }\n",
       "\n",
       "    .dataframe thead th {\n",
       "        text-align: right;\n",
       "    }\n",
       "</style>\n",
       "<table border=\"1\" class=\"dataframe\">\n",
       "  <thead>\n",
       "    <tr style=\"text-align: right;\">\n",
       "      <th></th>\n",
       "      <th>S.no</th>\n",
       "      <th>Tiktoker name</th>\n",
       "      <th>Tiktok name</th>\n",
       "      <th>Subscribers</th>\n",
       "      <th>Views_Ave</th>\n",
       "      <th>Likes_Ave</th>\n",
       "      <th>Comments_Ave</th>\n",
       "      <th>Shares_Ave</th>\n",
       "    </tr>\n",
       "  </thead>\n",
       "  <tbody>\n",
       "    <tr>\n",
       "      <th>count</th>\n",
       "      <td>1000.000000</td>\n",
       "      <td>1000</td>\n",
       "      <td>999</td>\n",
       "      <td>1000</td>\n",
       "      <td>1000</td>\n",
       "      <td>1000</td>\n",
       "      <td>1000</td>\n",
       "      <td>1000</td>\n",
       "    </tr>\n",
       "    <tr>\n",
       "      <th>unique</th>\n",
       "      <td>NaN</td>\n",
       "      <td>996</td>\n",
       "      <td>992</td>\n",
       "      <td>427</td>\n",
       "      <td>143</td>\n",
       "      <td>883</td>\n",
       "      <td>317</td>\n",
       "      <td>384</td>\n",
       "    </tr>\n",
       "    <tr>\n",
       "      <th>top</th>\n",
       "      <td>NaN</td>\n",
       "      <td>brookemonk_</td>\n",
       "      <td>Fernanda</td>\n",
       "      <td>1.1M</td>\n",
       "      <td>1.6M</td>\n",
       "      <td>1.1M</td>\n",
       "      <td>1.4K</td>\n",
       "      <td>1.3K</td>\n",
       "    </tr>\n",
       "    <tr>\n",
       "      <th>freq</th>\n",
       "      <td>NaN</td>\n",
       "      <td>2</td>\n",
       "      <td>2</td>\n",
       "      <td>21</td>\n",
       "      <td>51</td>\n",
       "      <td>5</td>\n",
       "      <td>51</td>\n",
       "      <td>35</td>\n",
       "    </tr>\n",
       "    <tr>\n",
       "      <th>mean</th>\n",
       "      <td>500.500000</td>\n",
       "      <td>NaN</td>\n",
       "      <td>NaN</td>\n",
       "      <td>NaN</td>\n",
       "      <td>NaN</td>\n",
       "      <td>NaN</td>\n",
       "      <td>NaN</td>\n",
       "      <td>NaN</td>\n",
       "    </tr>\n",
       "    <tr>\n",
       "      <th>std</th>\n",
       "      <td>288.819436</td>\n",
       "      <td>NaN</td>\n",
       "      <td>NaN</td>\n",
       "      <td>NaN</td>\n",
       "      <td>NaN</td>\n",
       "      <td>NaN</td>\n",
       "      <td>NaN</td>\n",
       "      <td>NaN</td>\n",
       "    </tr>\n",
       "    <tr>\n",
       "      <th>min</th>\n",
       "      <td>1.000000</td>\n",
       "      <td>NaN</td>\n",
       "      <td>NaN</td>\n",
       "      <td>NaN</td>\n",
       "      <td>NaN</td>\n",
       "      <td>NaN</td>\n",
       "      <td>NaN</td>\n",
       "      <td>NaN</td>\n",
       "    </tr>\n",
       "    <tr>\n",
       "      <th>25%</th>\n",
       "      <td>250.750000</td>\n",
       "      <td>NaN</td>\n",
       "      <td>NaN</td>\n",
       "      <td>NaN</td>\n",
       "      <td>NaN</td>\n",
       "      <td>NaN</td>\n",
       "      <td>NaN</td>\n",
       "      <td>NaN</td>\n",
       "    </tr>\n",
       "    <tr>\n",
       "      <th>50%</th>\n",
       "      <td>500.500000</td>\n",
       "      <td>NaN</td>\n",
       "      <td>NaN</td>\n",
       "      <td>NaN</td>\n",
       "      <td>NaN</td>\n",
       "      <td>NaN</td>\n",
       "      <td>NaN</td>\n",
       "      <td>NaN</td>\n",
       "    </tr>\n",
       "    <tr>\n",
       "      <th>75%</th>\n",
       "      <td>750.250000</td>\n",
       "      <td>NaN</td>\n",
       "      <td>NaN</td>\n",
       "      <td>NaN</td>\n",
       "      <td>NaN</td>\n",
       "      <td>NaN</td>\n",
       "      <td>NaN</td>\n",
       "      <td>NaN</td>\n",
       "    </tr>\n",
       "    <tr>\n",
       "      <th>max</th>\n",
       "      <td>1000.000000</td>\n",
       "      <td>NaN</td>\n",
       "      <td>NaN</td>\n",
       "      <td>NaN</td>\n",
       "      <td>NaN</td>\n",
       "      <td>NaN</td>\n",
       "      <td>NaN</td>\n",
       "      <td>NaN</td>\n",
       "    </tr>\n",
       "  </tbody>\n",
       "</table>\n",
       "</div>"
      ],
      "text/plain": [
       "               S.no Tiktoker name Tiktok name Subscribers Views_Ave Likes_Ave  \\\n",
       "count   1000.000000          1000         999        1000      1000      1000   \n",
       "unique          NaN           996         992         427       143       883   \n",
       "top             NaN   brookemonk_    Fernanda        1.1M      1.6M      1.1M   \n",
       "freq            NaN             2           2          21        51         5   \n",
       "mean     500.500000           NaN         NaN         NaN       NaN       NaN   \n",
       "std      288.819436           NaN         NaN         NaN       NaN       NaN   \n",
       "min        1.000000           NaN         NaN         NaN       NaN       NaN   \n",
       "25%      250.750000           NaN         NaN         NaN       NaN       NaN   \n",
       "50%      500.500000           NaN         NaN         NaN       NaN       NaN   \n",
       "75%      750.250000           NaN         NaN         NaN       NaN       NaN   \n",
       "max     1000.000000           NaN         NaN         NaN       NaN       NaN   \n",
       "\n",
       "       Comments_Ave Shares_Ave  \n",
       "count          1000       1000  \n",
       "unique          317        384  \n",
       "top            1.4K       1.3K  \n",
       "freq             51         35  \n",
       "mean            NaN        NaN  \n",
       "std             NaN        NaN  \n",
       "min             NaN        NaN  \n",
       "25%             NaN        NaN  \n",
       "50%             NaN        NaN  \n",
       "75%             NaN        NaN  \n",
       "max             NaN        NaN  "
      ]
     },
     "execution_count": 49,
     "metadata": {},
     "output_type": "execute_result"
    }
   ],
   "source": [
    "data.describe(include='all')"
   ]
  },
  {
   "cell_type": "code",
   "execution_count": 50,
   "id": "dfcf43f3-deff-4f3a-ac46-90e63966d149",
   "metadata": {},
   "outputs": [
    {
     "data": {
      "text/plain": [
       "0      False\n",
       "1      False\n",
       "2      False\n",
       "3      False\n",
       "4      False\n",
       "       ...  \n",
       "995    False\n",
       "996    False\n",
       "997    False\n",
       "998    False\n",
       "999    False\n",
       "Length: 1000, dtype: bool"
      ]
     },
     "execution_count": 50,
     "metadata": {},
     "output_type": "execute_result"
    }
   ],
   "source": [
    "data.duplicated()"
   ]
  },
  {
   "cell_type": "code",
   "execution_count": 51,
   "id": "a6e67142-2696-4875-a959-f8734fac894d",
   "metadata": {},
   "outputs": [
    {
     "data": {
      "text/html": [
       "<div>\n",
       "<style scoped>\n",
       "    .dataframe tbody tr th:only-of-type {\n",
       "        vertical-align: middle;\n",
       "    }\n",
       "\n",
       "    .dataframe tbody tr th {\n",
       "        vertical-align: top;\n",
       "    }\n",
       "\n",
       "    .dataframe thead th {\n",
       "        text-align: right;\n",
       "    }\n",
       "</style>\n",
       "<table border=\"1\" class=\"dataframe\">\n",
       "  <thead>\n",
       "    <tr style=\"text-align: right;\">\n",
       "      <th></th>\n",
       "      <th>S.no</th>\n",
       "      <th>Tiktoker name</th>\n",
       "      <th>Tiktok name</th>\n",
       "      <th>Subscribers</th>\n",
       "      <th>Views_Ave</th>\n",
       "      <th>Likes_Ave</th>\n",
       "      <th>Comments_Ave</th>\n",
       "      <th>Shares_Ave</th>\n",
       "    </tr>\n",
       "  </thead>\n",
       "  <tbody>\n",
       "    <tr>\n",
       "      <th>0</th>\n",
       "      <td>1</td>\n",
       "      <td>jypestraykids</td>\n",
       "      <td>Stray Kids</td>\n",
       "      <td>13.8M</td>\n",
       "      <td>6.4M</td>\n",
       "      <td>2.3M</td>\n",
       "      <td>50.2K</td>\n",
       "      <td>34.2K</td>\n",
       "    </tr>\n",
       "    <tr>\n",
       "      <th>1</th>\n",
       "      <td>2</td>\n",
       "      <td>khaby.lame</td>\n",
       "      <td>Khabane lame</td>\n",
       "      <td>149.2M</td>\n",
       "      <td>17.3M</td>\n",
       "      <td>2.3M</td>\n",
       "      <td>15.2K</td>\n",
       "      <td>8.7K</td>\n",
       "    </tr>\n",
       "    <tr>\n",
       "      <th>2</th>\n",
       "      <td>3</td>\n",
       "      <td>scarlettsspam2</td>\n",
       "      <td>scarlett</td>\n",
       "      <td>2.1M</td>\n",
       "      <td>17.9M</td>\n",
       "      <td>845.8K</td>\n",
       "      <td>53.9K</td>\n",
       "      <td>6.3K</td>\n",
       "    </tr>\n",
       "    <tr>\n",
       "      <th>3</th>\n",
       "      <td>4</td>\n",
       "      <td>addisonre</td>\n",
       "      <td>Addison Rae</td>\n",
       "      <td>88.7M</td>\n",
       "      <td>22M</td>\n",
       "      <td>906.6K</td>\n",
       "      <td>7.6K</td>\n",
       "      <td>26.2K</td>\n",
       "    </tr>\n",
       "    <tr>\n",
       "      <th>4</th>\n",
       "      <td>5</td>\n",
       "      <td>belindatok</td>\n",
       "      <td>Belinda</td>\n",
       "      <td>4.8M</td>\n",
       "      <td>14.2M</td>\n",
       "      <td>1.5M</td>\n",
       "      <td>14.5K</td>\n",
       "      <td>15.3K</td>\n",
       "    </tr>\n",
       "    <tr>\n",
       "      <th>...</th>\n",
       "      <td>...</td>\n",
       "      <td>...</td>\n",
       "      <td>...</td>\n",
       "      <td>...</td>\n",
       "      <td>...</td>\n",
       "      <td>...</td>\n",
       "      <td>...</td>\n",
       "      <td>...</td>\n",
       "    </tr>\n",
       "    <tr>\n",
       "      <th>995</th>\n",
       "      <td>996</td>\n",
       "      <td>brendadialoy</td>\n",
       "      <td>Brenda Dialoy</td>\n",
       "      <td>371.9K</td>\n",
       "      <td>1.2M</td>\n",
       "      <td>187.5K</td>\n",
       "      <td>626</td>\n",
       "      <td>2K</td>\n",
       "    </tr>\n",
       "    <tr>\n",
       "      <th>996</th>\n",
       "      <td>997</td>\n",
       "      <td>jujufitcats</td>\n",
       "      <td>Juju Fitcats</td>\n",
       "      <td>4.3M</td>\n",
       "      <td>2.2M</td>\n",
       "      <td>280.8K</td>\n",
       "      <td>380</td>\n",
       "      <td>558</td>\n",
       "    </tr>\n",
       "    <tr>\n",
       "      <th>997</th>\n",
       "      <td>998</td>\n",
       "      <td>xoteam</td>\n",
       "      <td>XO Team</td>\n",
       "      <td>37.8M</td>\n",
       "      <td>2.5M</td>\n",
       "      <td>180.2K</td>\n",
       "      <td>859</td>\n",
       "      <td>450</td>\n",
       "    </tr>\n",
       "    <tr>\n",
       "      <th>998</th>\n",
       "      <td>999</td>\n",
       "      <td>kimsnwuo</td>\n",
       "      <td>ï¸ï¸</td>\n",
       "      <td>100.9K</td>\n",
       "      <td>957.4K</td>\n",
       "      <td>226.8K</td>\n",
       "      <td>908</td>\n",
       "      <td>1.7K</td>\n",
       "    </tr>\n",
       "    <tr>\n",
       "      <th>999</th>\n",
       "      <td>1000</td>\n",
       "      <td>jass_mcg</td>\n",
       "      <td>jass_mcg</td>\n",
       "      <td>52.2K</td>\n",
       "      <td>503.8K</td>\n",
       "      <td>116K</td>\n",
       "      <td>8.1K</td>\n",
       "      <td>1.8K</td>\n",
       "    </tr>\n",
       "  </tbody>\n",
       "</table>\n",
       "<p>1000 rows × 8 columns</p>\n",
       "</div>"
      ],
      "text/plain": [
       "     S.no   Tiktoker name    Tiktok name Subscribers Views_Ave Likes_Ave  \\\n",
       "0       1   jypestraykids     Stray Kids       13.8M      6.4M      2.3M   \n",
       "1       2      khaby.lame   Khabane lame      149.2M     17.3M      2.3M   \n",
       "2       3  scarlettsspam2       scarlett        2.1M     17.9M    845.8K   \n",
       "3       4       addisonre    Addison Rae       88.7M       22M    906.6K   \n",
       "4       5      belindatok        Belinda        4.8M     14.2M      1.5M   \n",
       "..    ...             ...            ...         ...       ...       ...   \n",
       "995   996    brendadialoy  Brenda Dialoy      371.9K      1.2M    187.5K   \n",
       "996   997     jujufitcats   Juju Fitcats        4.3M      2.2M    280.8K   \n",
       "997   998          xoteam        XO Team       37.8M      2.5M    180.2K   \n",
       "998   999        kimsnwuo         ï¸ï¸      100.9K    957.4K    226.8K   \n",
       "999  1000        jass_mcg       jass_mcg       52.2K    503.8K      116K   \n",
       "\n",
       "    Comments_Ave Shares_Ave  \n",
       "0          50.2K      34.2K  \n",
       "1          15.2K       8.7K  \n",
       "2          53.9K       6.3K  \n",
       "3           7.6K      26.2K  \n",
       "4          14.5K      15.3K  \n",
       "..           ...        ...  \n",
       "995          626         2K  \n",
       "996          380        558  \n",
       "997          859        450  \n",
       "998          908       1.7K  \n",
       "999         8.1K       1.8K  \n",
       "\n",
       "[1000 rows x 8 columns]"
      ]
     },
     "execution_count": 51,
     "metadata": {},
     "output_type": "execute_result"
    }
   ],
   "source": [
    "data.drop_duplicates()"
   ]
  },
  {
   "cell_type": "markdown",
   "id": "cf5dee4a-aac0-4061-b553-180c68364105",
   "metadata": {},
   "source": [
    "Removing null values:"
   ]
  },
  {
   "cell_type": "code",
   "execution_count": 52,
   "id": "371c0558-0260-45c3-a8f1-60db24369502",
   "metadata": {},
   "outputs": [
    {
     "data": {
      "text/html": [
       "<div>\n",
       "<style scoped>\n",
       "    .dataframe tbody tr th:only-of-type {\n",
       "        vertical-align: middle;\n",
       "    }\n",
       "\n",
       "    .dataframe tbody tr th {\n",
       "        vertical-align: top;\n",
       "    }\n",
       "\n",
       "    .dataframe thead th {\n",
       "        text-align: right;\n",
       "    }\n",
       "</style>\n",
       "<table border=\"1\" class=\"dataframe\">\n",
       "  <thead>\n",
       "    <tr style=\"text-align: right;\">\n",
       "      <th></th>\n",
       "      <th>S.no</th>\n",
       "      <th>Tiktoker name</th>\n",
       "      <th>Tiktok name</th>\n",
       "      <th>Subscribers</th>\n",
       "      <th>Views_Ave</th>\n",
       "      <th>Likes_Ave</th>\n",
       "      <th>Comments_Ave</th>\n",
       "      <th>Shares_Ave</th>\n",
       "    </tr>\n",
       "  </thead>\n",
       "  <tbody>\n",
       "    <tr>\n",
       "      <th>0</th>\n",
       "      <td>1</td>\n",
       "      <td>jypestraykids</td>\n",
       "      <td>Stray Kids</td>\n",
       "      <td>13800000.0</td>\n",
       "      <td>6400000.0</td>\n",
       "      <td>2300000.0</td>\n",
       "      <td>50200.0</td>\n",
       "      <td>34200.0</td>\n",
       "    </tr>\n",
       "    <tr>\n",
       "      <th>1</th>\n",
       "      <td>2</td>\n",
       "      <td>khaby.lame</td>\n",
       "      <td>Khabane lame</td>\n",
       "      <td>149200000.0</td>\n",
       "      <td>17300000.0</td>\n",
       "      <td>2300000.0</td>\n",
       "      <td>15200.0</td>\n",
       "      <td>8700.0</td>\n",
       "    </tr>\n",
       "    <tr>\n",
       "      <th>2</th>\n",
       "      <td>3</td>\n",
       "      <td>scarlettsspam2</td>\n",
       "      <td>scarlett</td>\n",
       "      <td>2100000.0</td>\n",
       "      <td>17900000.0</td>\n",
       "      <td>845800.0</td>\n",
       "      <td>53900.0</td>\n",
       "      <td>6300.0</td>\n",
       "    </tr>\n",
       "    <tr>\n",
       "      <th>3</th>\n",
       "      <td>4</td>\n",
       "      <td>addisonre</td>\n",
       "      <td>Addison Rae</td>\n",
       "      <td>88700000.0</td>\n",
       "      <td>22000000.0</td>\n",
       "      <td>906600.0</td>\n",
       "      <td>7600.0</td>\n",
       "      <td>26200.0</td>\n",
       "    </tr>\n",
       "    <tr>\n",
       "      <th>4</th>\n",
       "      <td>5</td>\n",
       "      <td>belindatok</td>\n",
       "      <td>Belinda</td>\n",
       "      <td>4800000.0</td>\n",
       "      <td>14200000.0</td>\n",
       "      <td>1500000.0</td>\n",
       "      <td>14500.0</td>\n",
       "      <td>15300.0</td>\n",
       "    </tr>\n",
       "    <tr>\n",
       "      <th>...</th>\n",
       "      <td>...</td>\n",
       "      <td>...</td>\n",
       "      <td>...</td>\n",
       "      <td>...</td>\n",
       "      <td>...</td>\n",
       "      <td>...</td>\n",
       "      <td>...</td>\n",
       "      <td>...</td>\n",
       "    </tr>\n",
       "    <tr>\n",
       "      <th>995</th>\n",
       "      <td>996</td>\n",
       "      <td>brendadialoy</td>\n",
       "      <td>Brenda Dialoy</td>\n",
       "      <td>371900.0</td>\n",
       "      <td>1200000.0</td>\n",
       "      <td>187500.0</td>\n",
       "      <td>626.0</td>\n",
       "      <td>2000.0</td>\n",
       "    </tr>\n",
       "    <tr>\n",
       "      <th>996</th>\n",
       "      <td>997</td>\n",
       "      <td>jujufitcats</td>\n",
       "      <td>Juju Fitcats</td>\n",
       "      <td>4300000.0</td>\n",
       "      <td>2200000.0</td>\n",
       "      <td>280800.0</td>\n",
       "      <td>380.0</td>\n",
       "      <td>558.0</td>\n",
       "    </tr>\n",
       "    <tr>\n",
       "      <th>997</th>\n",
       "      <td>998</td>\n",
       "      <td>xoteam</td>\n",
       "      <td>XO Team</td>\n",
       "      <td>37800000.0</td>\n",
       "      <td>2500000.0</td>\n",
       "      <td>180200.0</td>\n",
       "      <td>859.0</td>\n",
       "      <td>450.0</td>\n",
       "    </tr>\n",
       "    <tr>\n",
       "      <th>998</th>\n",
       "      <td>999</td>\n",
       "      <td>kimsnwuo</td>\n",
       "      <td>ï¸ï¸</td>\n",
       "      <td>100900.0</td>\n",
       "      <td>957400.0</td>\n",
       "      <td>226800.0</td>\n",
       "      <td>908.0</td>\n",
       "      <td>1700.0</td>\n",
       "    </tr>\n",
       "    <tr>\n",
       "      <th>999</th>\n",
       "      <td>1000</td>\n",
       "      <td>jass_mcg</td>\n",
       "      <td>jass_mcg</td>\n",
       "      <td>52200.0</td>\n",
       "      <td>503800.0</td>\n",
       "      <td>116000.0</td>\n",
       "      <td>8100.0</td>\n",
       "      <td>1800.0</td>\n",
       "    </tr>\n",
       "  </tbody>\n",
       "</table>\n",
       "<p>1000 rows × 8 columns</p>\n",
       "</div>"
      ],
      "text/plain": [
       "     S.no   Tiktoker name    Tiktok name  Subscribers   Views_Ave  Likes_Ave  \\\n",
       "0       1   jypestraykids     Stray Kids   13800000.0   6400000.0  2300000.0   \n",
       "1       2      khaby.lame   Khabane lame  149200000.0  17300000.0  2300000.0   \n",
       "2       3  scarlettsspam2       scarlett    2100000.0  17900000.0   845800.0   \n",
       "3       4       addisonre    Addison Rae   88700000.0  22000000.0   906600.0   \n",
       "4       5      belindatok        Belinda    4800000.0  14200000.0  1500000.0   \n",
       "..    ...             ...            ...          ...         ...        ...   \n",
       "995   996    brendadialoy  Brenda Dialoy     371900.0   1200000.0   187500.0   \n",
       "996   997     jujufitcats   Juju Fitcats    4300000.0   2200000.0   280800.0   \n",
       "997   998          xoteam        XO Team   37800000.0   2500000.0   180200.0   \n",
       "998   999        kimsnwuo         ï¸ï¸     100900.0    957400.0   226800.0   \n",
       "999  1000        jass_mcg       jass_mcg      52200.0    503800.0   116000.0   \n",
       "\n",
       "     Comments_Ave  Shares_Ave  \n",
       "0         50200.0     34200.0  \n",
       "1         15200.0      8700.0  \n",
       "2         53900.0      6300.0  \n",
       "3          7600.0     26200.0  \n",
       "4         14500.0     15300.0  \n",
       "..            ...         ...  \n",
       "995         626.0      2000.0  \n",
       "996         380.0       558.0  \n",
       "997         859.0       450.0  \n",
       "998         908.0      1700.0  \n",
       "999        8100.0      1800.0  \n",
       "\n",
       "[1000 rows x 8 columns]"
      ]
     },
     "metadata": {},
     "output_type": "display_data"
    }
   ],
   "source": [
    "def remove_symbols_and_convert(value):\n",
    "    if isinstance(value, int) or isinstance(value, float):\n",
    "        return value\n",
    "\n",
    "    multiplier = 1\n",
    "    if 'k' in value.lower():\n",
    "        multiplier = 1000\n",
    "    elif 'm' in value.lower():\n",
    "        multiplier = 1000000\n",
    "\n",
    "    value = value.replace('k', '').replace('K', '').replace('m', '').replace('M', '')\n",
    "\n",
    "    return float(value) * multiplier\n",
    "\n",
    "\n",
    "# Apply the function to the columns where you want to remove symbols\n",
    "columns_to_process = ['Subscribers','Views_Ave','Likes_Ave','Comments_Ave','Shares_Ave']  # Add the columns you want to process\n",
    "for col in columns_to_process:\n",
    "    data[col] = data[col].apply(remove_symbols_and_convert)\n",
    "\n",
    "# Display the modified DataFrame\n",
    "display(data)"
   ]
  },
  {
   "cell_type": "code",
   "execution_count": 53,
   "id": "1a27ccc3-8fcb-43fd-8e6f-3a627f39f628",
   "metadata": {},
   "outputs": [],
   "source": [
    "s0=data.Subscribers.min()\n",
    "s100=data.Subscribers.max()\n",
    "q1=data.Subscribers.quantile(0.25)\n",
    "q2=data.Subscribers.quantile(0.5)\n",
    "q3=data.Subscribers.quantile(0.75)\n",
    "iqr=q3-q1"
   ]
  },
  {
   "cell_type": "code",
   "execution_count": 54,
   "id": "8fd5f406-4006-41fe-921a-6187025ffec0",
   "metadata": {},
   "outputs": [
    {
     "data": {
      "text/plain": [
       "-8900000.0"
      ]
     },
     "execution_count": 54,
     "metadata": {},
     "output_type": "execute_result"
    }
   ],
   "source": [
    "lc=q1-1.5*iqr\n",
    "uc=q3+1.5*iqr\n",
    "lc"
   ]
  },
  {
   "cell_type": "code",
   "execution_count": 55,
   "id": "3f6992ad-0a7a-4b38-9a06-274f61970b75",
   "metadata": {},
   "outputs": [
    {
     "data": {
      "text/plain": [
       "18300000.0"
      ]
     },
     "execution_count": 55,
     "metadata": {},
     "output_type": "execute_result"
    }
   ],
   "source": [
    "uc"
   ]
  },
  {
   "cell_type": "markdown",
   "id": "077cf18b-8679-460e-9084-813097e57c83",
   "metadata": {},
   "source": [
    "Outlier condition\n",
    "If lc < p0 -> There are no outliers on the lower side If uc > p100 -> There are no outliers on the higher side"
   ]
  },
  {
   "cell_type": "code",
   "execution_count": 56,
   "id": "1710a619-857a-455c-a354-17e91d1568a0",
   "metadata": {},
   "outputs": [
    {
     "name": "stdout",
     "output_type": "stream",
     "text": [
      "s0= 5100.0 s100= 149200000.0 ,lc= -8900000.0 ,uc= 18300000.0\n"
     ]
    }
   ],
   "source": [
    "print(\"s0=\",s0,\"s100=\",s100,\",lc=\",lc,\",uc=\",uc)"
   ]
  },
  {
   "cell_type": "code",
   "execution_count": 57,
   "id": "18258004-de3b-4502-9759-5c9616e3640c",
   "metadata": {},
   "outputs": [
    {
     "data": {
      "text/plain": [
       "<Axes: >"
      ]
     },
     "execution_count": 57,
     "metadata": {},
     "output_type": "execute_result"
    },
    {
     "data": {
      "image/png": "[encoded data removed]",
      "text/plain": [
       "<Figure size 640x480 with 1 Axes>"
      ]
     },
     "metadata": {},
     "output_type": "display_data"
    }
   ],
   "source": [
    "data.Subscribers.plot(kind='box')"
   ]
  },
  {
   "cell_type": "markdown",
   "id": "9cf2eadc-9bef-462a-8ded-af69b458b651",
   "metadata": {},
   "source": [
    "From the above graphs and values, it is evident that the dataset does contain outliers."
   ]
  },
  {
   "cell_type": "code",
   "execution_count": 58,
   "id": "382cc6e1-4d94-4277-87f8-980efcc58430",
   "metadata": {},
   "outputs": [
    {
     "data": {
      "text/plain": [
       "0      13800000.0\n",
       "1      18300000.0\n",
       "2       2100000.0\n",
       "3      18300000.0\n",
       "4       4800000.0\n",
       "          ...    \n",
       "995      371900.0\n",
       "996     4300000.0\n",
       "997    18300000.0\n",
       "998      100900.0\n",
       "999       52200.0\n",
       "Name: Subscribers, Length: 1000, dtype: float64"
      ]
     },
     "execution_count": 58,
     "metadata": {},
     "output_type": "execute_result"
    }
   ],
   "source": [
    "data.Subscribers.clip(upper=uc)"
   ]
  },
  {
   "cell_type": "code",
   "execution_count": 59,
   "id": "4528b4eb-40d1-41fd-b9c5-99aa28bc3446",
   "metadata": {},
   "outputs": [
    {
     "data": {
      "text/plain": [
       "<Axes: >"
      ]
     },
     "execution_count": 59,
     "metadata": {},
     "output_type": "execute_result"
    },
    {
     "data": {
      "image/png": "[encoded data removed]",
      "text/plain": [
       "<Figure size 640x480 with 1 Axes>"
      ]
     },
     "metadata": {},
     "output_type": "display_data"
    }
   ],
   "source": [
    "data.Subscribers.clip(upper=uc,inplace=True)\n",
    "data.Subscribers.plot(kind='box')"
   ]
  },
  {
   "cell_type": "code",
   "execution_count": 60,
   "id": "7f0645e5-0ac8-4934-895e-1be49c058b17",
   "metadata": {},
   "outputs": [
    {
     "data": {
      "text/html": [
       "<div>\n",
       "<style scoped>\n",
       "    .dataframe tbody tr th:only-of-type {\n",
       "        vertical-align: middle;\n",
       "    }\n",
       "\n",
       "    .dataframe tbody tr th {\n",
       "        vertical-align: top;\n",
       "    }\n",
       "\n",
       "    .dataframe thead th {\n",
       "        text-align: right;\n",
       "    }\n",
       "</style>\n",
       "<table border=\"1\" class=\"dataframe\">\n",
       "  <thead>\n",
       "    <tr style=\"text-align: right;\">\n",
       "      <th></th>\n",
       "      <th>S.no</th>\n",
       "      <th>Tiktoker name</th>\n",
       "      <th>Tiktok name</th>\n",
       "      <th>Subscribers</th>\n",
       "      <th>Views_Ave</th>\n",
       "      <th>Likes_Ave</th>\n",
       "      <th>Comments_Ave</th>\n",
       "      <th>Shares_Ave</th>\n",
       "    </tr>\n",
       "  </thead>\n",
       "  <tbody>\n",
       "    <tr>\n",
       "      <th>0</th>\n",
       "      <td>False</td>\n",
       "      <td>False</td>\n",
       "      <td>False</td>\n",
       "      <td>False</td>\n",
       "      <td>False</td>\n",
       "      <td>False</td>\n",
       "      <td>False</td>\n",
       "      <td>False</td>\n",
       "    </tr>\n",
       "    <tr>\n",
       "      <th>1</th>\n",
       "      <td>False</td>\n",
       "      <td>False</td>\n",
       "      <td>False</td>\n",
       "      <td>False</td>\n",
       "      <td>False</td>\n",
       "      <td>False</td>\n",
       "      <td>False</td>\n",
       "      <td>False</td>\n",
       "    </tr>\n",
       "    <tr>\n",
       "      <th>2</th>\n",
       "      <td>False</td>\n",
       "      <td>False</td>\n",
       "      <td>False</td>\n",
       "      <td>False</td>\n",
       "      <td>False</td>\n",
       "      <td>False</td>\n",
       "      <td>False</td>\n",
       "      <td>False</td>\n",
       "    </tr>\n",
       "    <tr>\n",
       "      <th>3</th>\n",
       "      <td>False</td>\n",
       "      <td>False</td>\n",
       "      <td>False</td>\n",
       "      <td>False</td>\n",
       "      <td>False</td>\n",
       "      <td>False</td>\n",
       "      <td>False</td>\n",
       "      <td>False</td>\n",
       "    </tr>\n",
       "    <tr>\n",
       "      <th>4</th>\n",
       "      <td>False</td>\n",
       "      <td>False</td>\n",
       "      <td>False</td>\n",
       "      <td>False</td>\n",
       "      <td>False</td>\n",
       "      <td>False</td>\n",
       "      <td>False</td>\n",
       "      <td>False</td>\n",
       "    </tr>\n",
       "    <tr>\n",
       "      <th>...</th>\n",
       "      <td>...</td>\n",
       "      <td>...</td>\n",
       "      <td>...</td>\n",
       "      <td>...</td>\n",
       "      <td>...</td>\n",
       "      <td>...</td>\n",
       "      <td>...</td>\n",
       "      <td>...</td>\n",
       "    </tr>\n",
       "    <tr>\n",
       "      <th>995</th>\n",
       "      <td>False</td>\n",
       "      <td>False</td>\n",
       "      <td>False</td>\n",
       "      <td>False</td>\n",
       "      <td>False</td>\n",
       "      <td>False</td>\n",
       "      <td>False</td>\n",
       "      <td>False</td>\n",
       "    </tr>\n",
       "    <tr>\n",
       "      <th>996</th>\n",
       "      <td>False</td>\n",
       "      <td>False</td>\n",
       "      <td>False</td>\n",
       "      <td>False</td>\n",
       "      <td>False</td>\n",
       "      <td>False</td>\n",
       "      <td>False</td>\n",
       "      <td>False</td>\n",
       "    </tr>\n",
       "    <tr>\n",
       "      <th>997</th>\n",
       "      <td>False</td>\n",
       "      <td>False</td>\n",
       "      <td>False</td>\n",
       "      <td>False</td>\n",
       "      <td>False</td>\n",
       "      <td>False</td>\n",
       "      <td>False</td>\n",
       "      <td>False</td>\n",
       "    </tr>\n",
       "    <tr>\n",
       "      <th>998</th>\n",
       "      <td>False</td>\n",
       "      <td>False</td>\n",
       "      <td>False</td>\n",
       "      <td>False</td>\n",
       "      <td>False</td>\n",
       "      <td>False</td>\n",
       "      <td>False</td>\n",
       "      <td>False</td>\n",
       "    </tr>\n",
       "    <tr>\n",
       "      <th>999</th>\n",
       "      <td>False</td>\n",
       "      <td>False</td>\n",
       "      <td>False</td>\n",
       "      <td>False</td>\n",
       "      <td>False</td>\n",
       "      <td>False</td>\n",
       "      <td>False</td>\n",
       "      <td>False</td>\n",
       "    </tr>\n",
       "  </tbody>\n",
       "</table>\n",
       "<p>1000 rows × 8 columns</p>\n",
       "</div>"
      ],
      "text/plain": [
       "      S.no  Tiktoker name  Tiktok name  Subscribers  Views_Ave  Likes_Ave  \\\n",
       "0    False          False        False        False      False      False   \n",
       "1    False          False        False        False      False      False   \n",
       "2    False          False        False        False      False      False   \n",
       "3    False          False        False        False      False      False   \n",
       "4    False          False        False        False      False      False   \n",
       "..     ...            ...          ...          ...        ...        ...   \n",
       "995  False          False        False        False      False      False   \n",
       "996  False          False        False        False      False      False   \n",
       "997  False          False        False        False      False      False   \n",
       "998  False          False        False        False      False      False   \n",
       "999  False          False        False        False      False      False   \n",
       "\n",
       "     Comments_Ave  Shares_Ave  \n",
       "0           False       False  \n",
       "1           False       False  \n",
       "2           False       False  \n",
       "3           False       False  \n",
       "4           False       False  \n",
       "..            ...         ...  \n",
       "995         False       False  \n",
       "996         False       False  \n",
       "997         False       False  \n",
       "998         False       False  \n",
       "999         False       False  \n",
       "\n",
       "[1000 rows x 8 columns]"
      ]
     },
     "execution_count": 60,
     "metadata": {},
     "output_type": "execute_result"
    }
   ],
   "source": [
    "data.isna()"
   ]
  },
  {
   "cell_type": "code",
   "execution_count": 61,
   "id": "2900a0f3-bfa9-474d-b58e-d4dfa0855ab2",
   "metadata": {},
   "outputs": [
    {
     "data": {
      "text/plain": [
       "S.no             0.000\n",
       "Tiktoker name    0.000\n",
       "Tiktok name      0.001\n",
       "Subscribers      0.000\n",
       "Views_Ave        0.000\n",
       "Likes_Ave        0.000\n",
       "Comments_Ave     0.000\n",
       "Shares_Ave       0.000\n",
       "dtype: float64"
      ]
     },
     "execution_count": 61,
     "metadata": {},
     "output_type": "execute_result"
    }
   ],
   "source": [
    "data.isna().sum()/data.shape[0]"
   ]
  },
  {
   "cell_type": "markdown",
   "id": "8b750478-1242-4969-9389-a8c44d488474",
   "metadata": {},
   "source": [
    "Tiktok with highest Subscribers:"
   ]
  },
  {
   "cell_type": "code",
   "execution_count": 100,
   "id": "107acb16-7616-462f-8796-68cc837fc2af",
   "metadata": {},
   "outputs": [
    {
     "name": "stdout",
     "output_type": "stream",
     "text": [
      "Ticktok with highest number of subscribers is Khabane lame\n"
     ]
    }
   ],
   "source": [
    "HS = data.loc[data['Subscribers'].idxmax()]\n",
    "THS = HS['Tiktok name']\n",
    "print(\"Ticktok with highest number of subscribers is\",THS)"
   ]
  },
  {
   "cell_type": "markdown",
   "id": "3fa66aa5-88c6-42ea-9343-ddc26d658475",
   "metadata": {},
   "source": [
    "Tiktoker with highest average likes:"
   ]
  },
  {
   "cell_type": "code",
   "execution_count": 103,
   "id": "915f49b3-eacb-45bf-8b7e-0ddcdd370e38",
   "metadata": {},
   "outputs": [
    {
     "name": "stdout",
     "output_type": "stream",
     "text": [
      "Tiktoker with highest number of likes is bzrp\n"
     ]
    }
   ],
   "source": [
    "HL= data.loc[data['Likes_Ave'].idxmax()]\n",
    "THL = HL['Tiktok name']\n",
    "print(\"Tiktoker with highest number of likes is\",THL)"
   ]
  },
  {
   "cell_type": "markdown",
   "id": "9fc0c067-e29e-4393-9fbf-c34fbd0ffe04",
   "metadata": {},
   "source": [
    "Tiktoker with highest average views:"
   ]
  },
  {
   "cell_type": "code",
   "execution_count": 105,
   "id": "1ad0bc62-b450-4a5f-b0ea-9e5faa27d8bd",
   "metadata": {},
   "outputs": [
    {
     "name": "stdout",
     "output_type": "stream",
     "text": [
      "Tiktoker with highest number of views on videos is Addison Rae\n"
     ]
    }
   ],
   "source": [
    "HV = data.loc[data['Views_Ave'].idxmax()]\n",
    "THV = HV['Tiktok name']\n",
    "print(\"Tiktoker with highest number of views on videos is\",THV)"
   ]
  },
  {
   "cell_type": "markdown",
   "id": "2fec3d06-4f66-4f0a-a8f8-1987cb846d5c",
   "metadata": {},
   "source": [
    "Tiktoker with highest comments on videos:"
   ]
  },
  {
   "cell_type": "code",
   "execution_count": 107,
   "id": "f4396cbc-eda9-421d-b2e8-f1f99731b978",
   "metadata": {},
   "outputs": [
    {
     "name": "stdout",
     "output_type": "stream",
     "text": [
      "Tiktoker with highest number of comments on videos is scarlett\n"
     ]
    }
   ],
   "source": [
    "HC = data.loc[data['Comments_Ave'].idxmax()]\n",
    "THC = HC['Tiktok name']\n",
    "print(\"Tiktoker with highest number of comments on videos is\",THC)"
   ]
  },
  {
   "cell_type": "markdown",
   "id": "bee4bfec-1df6-472b-9aee-2b84433606fd",
   "metadata": {},
   "source": [
    "Tiktoker with highest video shares:"
   ]
  },
  {
   "cell_type": "code",
   "execution_count": 108,
   "id": "4b861b3d-17e6-4e3e-bf33-14071cec87c6",
   "metadata": {},
   "outputs": [
    {
     "name": "stdout",
     "output_type": "stream",
     "text": [
      "Tiktoker with highest number of videos shares is ã†ã•ã£ãã¾â™¡Movie\n"
     ]
    }
   ],
   "source": [
    "HS = data.loc[data['Shares_Ave'].idxmax()]\n",
    "THS = HS['Tiktok name']\n",
    "print(\"Tiktoker with highest number of videos shares is\",THS)"
   ]
  },
  {
   "cell_type": "markdown",
   "id": "4a51ebab-daca-4216-a8ed-7a1414cd3ff7",
   "metadata": {},
   "source": [
    "Bivariate Analysis\n",
    "\n",
    "Tiktokers focus a lot on increasing their subscribers as these are the people who are their loyal fans. We tried to plot number of subscribers of all tiktokers against total likes, views, comments and share to check which practice (like/view/comment/share) contributes maximum to subscription. "
   ]
  },
  {
   "cell_type": "code",
   "execution_count": 63,
   "id": "48d2dc03-d7d1-40d3-80f8-6d6c013a7e49",
   "metadata": {},
   "outputs": [
    {
     "data": {
      "text/plain": [
       "<module 'matplotlib' from 'C:\\\\Users\\\\ADMIN\\\\anaconda3\\\\Lib\\\\site-packages\\\\matplotlib\\\\__init__.py'>"
      ]
     },
     "execution_count": 63,
     "metadata": {},
     "output_type": "execute_result"
    },
    {
     "data": {
      "image/png": "[encoded data removed]",
      "text/plain": [
       "<Figure size 640x480 with 1 Axes>"
      ]
     },
     "metadata": {},
     "output_type": "display_data"
    }
   ],
   "source": [
    "data.plot(x='Subscribers',y='Views_Ave',kind='scatter')\n",
    "plt\n"
   ]
  },
  {
   "cell_type": "code",
   "execution_count": 64,
   "id": "b8cd6126-c5e0-4db9-a326-ae11255c9d8b",
   "metadata": {},
   "outputs": [
    {
     "data": {
      "text/plain": [
       "<module 'matplotlib' from 'C:\\\\Users\\\\ADMIN\\\\anaconda3\\\\Lib\\\\site-packages\\\\matplotlib\\\\__init__.py'>"
      ]
     },
     "execution_count": 64,
     "metadata": {},
     "output_type": "execute_result"
    },
    {
     "data": {
      "image/png": "[encoded data removed]",
      "text/plain": [
       "<Figure size 640x480 with 1 Axes>"
      ]
     },
     "metadata": {},
     "output_type": "display_data"
    }
   ],
   "source": [
    "data.plot(x='Subscribers',y='Likes_Ave',kind='scatter')\n",
    "plt"
   ]
  },
  {
   "cell_type": "code",
   "execution_count": 65,
   "id": "b549bc56-8b0c-481a-80ea-006c63616c97",
   "metadata": {},
   "outputs": [
    {
     "data": {
      "text/plain": [
       "<module 'matplotlib' from 'C:\\\\Users\\\\ADMIN\\\\anaconda3\\\\Lib\\\\site-packages\\\\matplotlib\\\\__init__.py'>"
      ]
     },
     "execution_count": 65,
     "metadata": {},
     "output_type": "execute_result"
    },
    {
     "data": {
      "image/png": "[encoded data removed]",
      "text/plain": [
       "<Figure size 640x480 with 1 Axes>"
      ]
     },
     "metadata": {},
     "output_type": "display_data"
    }
   ],
   "source": [
    "data.plot(x='Subscribers',y='Comments_Ave',kind='scatter')\n",
    "plt"
   ]
  },
  {
   "cell_type": "code",
   "execution_count": 66,
   "id": "204983d0-2b01-4304-89eb-847c0d1ba94a",
   "metadata": {},
   "outputs": [
    {
     "data": {
      "text/plain": [
       "<module 'matplotlib' from 'C:\\\\Users\\\\ADMIN\\\\anaconda3\\\\Lib\\\\site-packages\\\\matplotlib\\\\__init__.py'>"
      ]
     },
     "execution_count": 66,
     "metadata": {},
     "output_type": "execute_result"
    },
    {
     "data": {
      "image/png": "[encoded data removed]",
      "text/plain": [
       "<Figure size 640x480 with 1 Axes>"
      ]
     },
     "metadata": {},
     "output_type": "display_data"
    }
   ],
   "source": [
    "data.plot(x='Subscribers',y='Shares_Ave',kind='scatter')\n",
    "plt\n"
   ]
  },
  {
   "cell_type": "markdown",
   "id": "bf8df0b1-c592-4b85-b61c-216d586bb6cf",
   "metadata": {},
   "source": [
    "From the graphs seen above it is evident that likes, share, views and comment on a video show similar pattern when contributing to suncription of a tiktok channel. Most people who view, like, share and/or comment on a video do not actually subscribe it. People who share a video are least likely to actually subscribe the tiktok. "
   ]
  },
  {
   "cell_type": "code",
   "execution_count": 68,
   "id": "67720d3a-db85-45b5-99df-6e67170086f3",
   "metadata": {
    "scrolled": true
   },
   "outputs": [
    {
     "data": {
      "text/html": [
       "<div>\n",
       "<style scoped>\n",
       "    .dataframe tbody tr th:only-of-type {\n",
       "        vertical-align: middle;\n",
       "    }\n",
       "\n",
       "    .dataframe tbody tr th {\n",
       "        vertical-align: top;\n",
       "    }\n",
       "\n",
       "    .dataframe thead th {\n",
       "        text-align: right;\n",
       "    }\n",
       "</style>\n",
       "<table border=\"1\" class=\"dataframe\">\n",
       "  <thead>\n",
       "    <tr style=\"text-align: right;\">\n",
       "      <th></th>\n",
       "      <th>Subscribers</th>\n",
       "      <th>Views_Ave</th>\n",
       "      <th>Likes_Ave</th>\n",
       "      <th>Comments_Ave</th>\n",
       "      <th>Shares_Ave</th>\n",
       "    </tr>\n",
       "  </thead>\n",
       "  <tbody>\n",
       "    <tr>\n",
       "      <th>Subscribers</th>\n",
       "      <td>1.000000</td>\n",
       "      <td>0.314582</td>\n",
       "      <td>0.302988</td>\n",
       "      <td>0.080009</td>\n",
       "      <td>-0.145856</td>\n",
       "    </tr>\n",
       "    <tr>\n",
       "      <th>Views_Ave</th>\n",
       "      <td>0.314582</td>\n",
       "      <td>1.000000</td>\n",
       "      <td>0.746352</td>\n",
       "      <td>0.409934</td>\n",
       "      <td>0.144913</td>\n",
       "    </tr>\n",
       "    <tr>\n",
       "      <th>Likes_Ave</th>\n",
       "      <td>0.302988</td>\n",
       "      <td>0.746352</td>\n",
       "      <td>1.000000</td>\n",
       "      <td>0.462920</td>\n",
       "      <td>0.119060</td>\n",
       "    </tr>\n",
       "    <tr>\n",
       "      <th>Comments_Ave</th>\n",
       "      <td>0.080009</td>\n",
       "      <td>0.409934</td>\n",
       "      <td>0.462920</td>\n",
       "      <td>1.000000</td>\n",
       "      <td>0.246673</td>\n",
       "    </tr>\n",
       "    <tr>\n",
       "      <th>Shares_Ave</th>\n",
       "      <td>-0.145856</td>\n",
       "      <td>0.144913</td>\n",
       "      <td>0.119060</td>\n",
       "      <td>0.246673</td>\n",
       "      <td>1.000000</td>\n",
       "    </tr>\n",
       "  </tbody>\n",
       "</table>\n",
       "</div>"
      ],
      "text/plain": [
       "              Subscribers  Views_Ave  Likes_Ave  Comments_Ave  Shares_Ave\n",
       "Subscribers      1.000000   0.314582   0.302988      0.080009   -0.145856\n",
       "Views_Ave        0.314582   1.000000   0.746352      0.409934    0.144913\n",
       "Likes_Ave        0.302988   0.746352   1.000000      0.462920    0.119060\n",
       "Comments_Ave     0.080009   0.409934   0.462920      1.000000    0.246673\n",
       "Shares_Ave      -0.145856   0.144913   0.119060      0.246673    1.000000"
      ]
     },
     "execution_count": 68,
     "metadata": {},
     "output_type": "execute_result"
    }
   ],
   "source": [
    "#Correlation matrix\n",
    "#Finding correlation between all the numeric variables\n",
    "data.drop('S.no',axis=1,inplace=True)\n",
    "data.select_dtypes(['float64','int64']).corr()\n",
    "\t\t"
   ]
  },
  {
   "cell_type": "code",
   "execution_count": 69,
   "id": "a1b61176-b9d3-4890-8280-479845fd7c1e",
   "metadata": {},
   "outputs": [
    {
     "data": {
      "text/plain": [
       "0.3145819107999242"
      ]
     },
     "execution_count": 69,
     "metadata": {},
     "output_type": "execute_result"
    }
   ],
   "source": [
    "data['Subscribers'].corr(data['Views_Ave'])"
   ]
  },
  {
   "cell_type": "code",
   "execution_count": 70,
   "id": "d624dc8c-c467-4a49-9252-ec4d58724188",
   "metadata": {},
   "outputs": [
    {
     "data": {
      "text/plain": [
       "0.30298765810002"
      ]
     },
     "execution_count": 70,
     "metadata": {},
     "output_type": "execute_result"
    }
   ],
   "source": [
    "data['Subscribers'].corr(data['Likes_Ave'])"
   ]
  },
  {
   "cell_type": "code",
   "execution_count": 71,
   "id": "321024ca-adb5-4c21-8d01-66283f9dc592",
   "metadata": {},
   "outputs": [
    {
     "data": {
      "text/plain": [
       "0.08000947917540353"
      ]
     },
     "execution_count": 71,
     "metadata": {},
     "output_type": "execute_result"
    }
   ],
   "source": [
    "data['Subscribers'].corr(data['Comments_Ave'])"
   ]
  },
  {
   "cell_type": "code",
   "execution_count": 72,
   "id": "48be14dd-6037-4883-aa91-18dcd7854477",
   "metadata": {},
   "outputs": [
    {
     "data": {
      "text/plain": [
       "-0.14585581314519436"
      ]
     },
     "execution_count": 72,
     "metadata": {},
     "output_type": "execute_result"
    }
   ],
   "source": [
    "data['Subscribers'].corr(data['Shares_Ave'])"
   ]
  },
  {
   "cell_type": "markdown",
   "id": "036eb6b2-76c6-4e2d-a34d-fd582cdbc2fe",
   "metadata": {},
   "source": [
    "From correlation matrix displayed above, it is evident that:\n",
    "a.) There is a positive correlation between average views on a Tiktok video and Subscribers i.e., 0.314582. \n",
    "b.) There is a positive correlation between average likes on a Tiktok video and Subscribers i.e., 0.302988.\n",
    "c.) There is a positive correlation between average comments on a Tiktok video and Subscribers i.e., 0.080009.\n",
    "d.) There is a negative correlation between average shares of a Tiktok video and Subscribers i.e., -0.145856.\n",
    "\n",
    "Therefore, sharing of a video does not contribute to increasing subscribers of the Tiktoker. \n",
    "But likes, comments and views do contribute to increasing subscribers of the Tiktoker. "
   ]
  },
  {
   "cell_type": "markdown",
   "id": "8f23f6ed-1521-479a-ab49-c0a382a33474",
   "metadata": {},
   "source": [
    "HEAT MAP"
   ]
  },
  {
   "cell_type": "code",
   "execution_count": 74,
   "id": "a3d6d833-e335-4856-8f67-b6c980b44359",
   "metadata": {},
   "outputs": [
    {
     "name": "stdout",
     "output_type": "stream",
     "text": [
      "Requirement already satisfied: seaborn in c:\\users\\admin\\anaconda3\\lib\\site-packages (0.13.2)\n",
      "Requirement already satisfied: numpy!=1.24.0,>=1.20 in c:\\users\\admin\\anaconda3\\lib\\site-packages (from seaborn) (1.26.4)\n",
      "Requirement already satisfied: pandas>=1.2 in c:\\users\\admin\\anaconda3\\lib\\site-packages (from seaborn) (2.1.4)\n",
      "Requirement already satisfied: matplotlib!=3.6.1,>=3.4 in c:\\users\\admin\\anaconda3\\lib\\site-packages (from seaborn) (3.8.0)\n",
      "Requirement already satisfied: contourpy>=1.0.1 in c:\\users\\admin\\anaconda3\\lib\\site-packages (from matplotlib!=3.6.1,>=3.4->seaborn) (1.2.0)\n",
      "Requirement already satisfied: cycler>=0.10 in c:\\users\\admin\\anaconda3\\lib\\site-packages (from matplotlib!=3.6.1,>=3.4->seaborn) (0.11.0)\n",
      "Requirement already satisfied: fonttools>=4.22.0 in c:\\users\\admin\\anaconda3\\lib\\site-packages (from matplotlib!=3.6.1,>=3.4->seaborn) (4.25.0)\n",
      "Requirement already satisfied: kiwisolver>=1.0.1 in c:\\users\\admin\\anaconda3\\lib\\site-packages (from matplotlib!=3.6.1,>=3.4->seaborn) (1.4.4)\n",
      "Requirement already satisfied: packaging>=20.0 in c:\\users\\admin\\anaconda3\\lib\\site-packages (from matplotlib!=3.6.1,>=3.4->seaborn) (23.1)\n",
      "Requirement already satisfied: pillow>=6.2.0 in c:\\users\\admin\\anaconda3\\lib\\site-packages (from matplotlib!=3.6.1,>=3.4->seaborn) (10.2.0)\n",
      "Requirement already satisfied: pyparsing>=2.3.1 in c:\\users\\admin\\anaconda3\\lib\\site-packages (from matplotlib!=3.6.1,>=3.4->seaborn) (3.0.9)\n",
      "Requirement already satisfied: python-dateutil>=2.7 in c:\\users\\admin\\anaconda3\\lib\\site-packages (from matplotlib!=3.6.1,>=3.4->seaborn) (2.8.2)\n",
      "Requirement already satisfied: pytz>=2020.1 in c:\\users\\admin\\anaconda3\\lib\\site-packages (from pandas>=1.2->seaborn) (2023.3.post1)\n",
      "Requirement already satisfied: tzdata>=2022.1 in c:\\users\\admin\\anaconda3\\lib\\site-packages (from pandas>=1.2->seaborn) (2023.3)\n",
      "Requirement already satisfied: six>=1.5 in c:\\users\\admin\\anaconda3\\lib\\site-packages (from python-dateutil>=2.7->matplotlib!=3.6.1,>=3.4->seaborn) (1.16.0)\n"
     ]
    }
   ],
   "source": [
    "!pip install seaborn --upgrade"
   ]
  },
  {
   "cell_type": "code",
   "execution_count": 75,
   "id": "daca9692-5187-416b-9935-6b8cdcb6ebd8",
   "metadata": {},
   "outputs": [
    {
     "data": {
      "text/plain": [
       "<module 'matplotlib' from 'C:\\\\Users\\\\ADMIN\\\\anaconda3\\\\Lib\\\\site-packages\\\\matplotlib\\\\__init__.py'>"
      ]
     },
     "execution_count": 75,
     "metadata": {},
     "output_type": "execute_result"
    },
    {
     "data": {
      "image/png": "[encoded data removed]",
      "text/plain": [
       "<Figure size 640x480 with 2 Axes>"
      ]
     },
     "metadata": {},
     "output_type": "display_data"
    }
   ],
   "source": [
    "import seaborn as sns\n",
    "sns.heatmap(data.select_dtypes(['float64','int64']).corr(),annot=True)\n",
    "plt"
   ]
  },
  {
   "cell_type": "markdown",
   "id": "bbac338c-b028-49e3-8c9a-1f539e04eb07",
   "metadata": {},
   "source": [
    "# The findings of the present analysis can be listed in points as below:\n",
    "(i.) Khabane lame is the Tiktoker with highest number of subcribers\n",
    "(ii.) Tiktoker with highest number of likes is bzrp\n",
    "(iii.) Tiktoker with highest number of videos shares is ã†ã•ã£ãã¾â™¡Movie\n",
    "(iv.) Tiktoker with highest number of views on videos is Addison Rae\n",
    "(v.) Tiktoker with highest number of comments on videos is scarlett\n",
    "\n",
    "To increase the number of subscribers of the Tiktok account, content creators should keep track of increasing views, likes and comments on their videos. Sharing of a video does not contribute to increasing subscribers. However, it may contribute to increasing video views."
   ]
  }
 ],
 "metadata": {
  "kernelspec": {
   "display_name": "Python 3 (ipykernel)",
   "language": "python",
   "name": "python3"
  },
  "language_info": {
   "codemirror_mode": {
    "name": "ipython",
    "version": 3
   },
   "file_extension": ".py",
   "mimetype": "text/x-python",
   "name": "python",
   "nbconvert_exporter": "python",
   "pygments_lexer": "ipython3",
   "version": "3.11.7"
  }
 },
 "nbformat": 4,
 "nbformat_minor": 5
}
